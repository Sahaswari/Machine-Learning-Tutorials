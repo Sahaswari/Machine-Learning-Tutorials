{
 "cells": [
  {
   "cell_type": "markdown",
   "id": "ba14b169",
   "metadata": {},
   "source": [
    "# Gradient Descent and Cost Function"
   ]
  },
  {
   "cell_type": "code",
   "execution_count": 1,
   "id": "02cca7cb",
   "metadata": {},
   "outputs": [],
   "source": [
    "import numpy as np"
   ]
  },
  {
   "cell_type": "code",
   "execution_count": 6,
   "id": "da34e7e0",
   "metadata": {},
   "outputs": [
    {
     "name": "stdout",
     "output_type": "stream",
     "text": [
      "m 6.2, b1.8, iteretion 0\n",
      "m -2.320000000000001, b-0.4800000000000002, iteretion 1\n",
      "m 9.272000000000002, b2.8080000000000007, iteretion 2\n",
      "m -6.611200000000007, b-1.5168000000000017, iteretion 3\n",
      "m 15.043520000000012, b4.5532800000000035, iteretion 4\n",
      "m -14.584192000000016, b-3.5834880000000053, iteretion 5\n",
      "m 25.851123200000032, b7.6837248000000065, iteretion 6\n",
      "m -29.431582720000037, b-7.563694080000013, iteretion 7\n",
      "m 46.056115712000064, b13.407994368000011, iteretion 8\n",
      "m -57.11213547520009, b-15.10727393280003, iteretion 9\n"
     ]
    }
   ],
   "source": [
    "def gradient_descent (x,y):\n",
    "    m_curr = b_curr =0\n",
    "    interations = 10\n",
    "    n = len(x)\n",
    "    learning_rate =0.1\n",
    "    \n",
    "    for i in range (interations):\n",
    "        y_predicted =m_curr *x +b_curr\n",
    "        md = -(2/n)*sum (x*(y-y_predicted))\n",
    "        bd = -(2/n)* sum (y-y_predicted)\n",
    "        m_curr = m_curr - learning_rate * md\n",
    "        b_curr = b_curr - learning_rate * bd\n",
    "        print (\"m {}, b{}, iteretion {}\" .format (m_curr,b_curr,i))\n",
    "        \n",
    "x = np.array([1,2,3,4,5])\n",
    "y = np.array ([5,7,9,11,13])\n",
    "\n",
    "gradient_descent (x,y)"
   ]
  },
  {
   "cell_type": "code",
   "execution_count": null,
   "id": "33857ea2",
   "metadata": {},
   "outputs": [],
   "source": []
  }
 ],
 "metadata": {
  "kernelspec": {
   "display_name": "Python 3 (ipykernel)",
   "language": "python",
   "name": "python3"
  },
  "language_info": {
   "codemirror_mode": {
    "name": "ipython",
    "version": 3
   },
   "file_extension": ".py",
   "mimetype": "text/x-python",
   "name": "python",
   "nbconvert_exporter": "python",
   "pygments_lexer": "ipython3",
   "version": "3.11.5"
  }
 },
 "nbformat": 4,
 "nbformat_minor": 5
}
